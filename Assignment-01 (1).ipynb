{
 "cells": [
  {
   "cell_type": "code",
   "execution_count": 28,
   "id": "6667c1b0",
   "metadata": {},
   "outputs": [
    {
     "name": "stdout",
     "output_type": "stream",
     "text": [
      "Enter the value of x: 3\n",
      "Enter the number of terms: 5\n",
      "16.375\n"
     ]
    }
   ],
   "source": [
    "#QUESTION-01\n",
    "x=int(input(\"Enter the value of x: \"))\n",
    "n=int(input(\"Enter the number of terms: \"))\n",
    "p=1\n",
    "f=1\n",
    "s=1\n",
    "for i in range(1,n):\n",
    "    p = p*x\n",
    "    f = f*i\n",
    "    s = s+(p/f)\n",
    "print(s)"
   ]
  },
  {
   "cell_type": "code",
   "execution_count": 5,
   "id": "ed24c5a8",
   "metadata": {},
   "outputs": [
    {
     "name": "stdout",
     "output_type": "stream",
     "text": [
      "[188, 896, 698, 262, 114, 130, 110, 552, 584, 628, 328, 530, 368, 254, 538, 412, 862, 626, 750, 536, 856, 774, 338, 100, 348, 894, 512, 692, 294, 116, 578, 386, 174, 148, 248, 446, 814, 802, 446, 738, 868, 628, 240, 388, 170, 206, 638, 532, 142, 738, 370, 752, 522, 704, 252]\n",
      "[519, 111, 473, 245, 479, 431, 725, 589, 787, 773, 889, 257, 887, 647, 883, 717, 309, 721, 547, 791, 271, 865, 637, 461, 259, 161, 815, 485, 107, 631, 749, 489, 217, 117, 775, 161, 115, 453, 481, 413, 867, 457, 857, 793, 579]\n",
      "[479, 431, 787, 773, 257, 887, 647, 883, 547, 271, 461, 107, 631, 457, 857]\n"
     ]
    }
   ],
   "source": [
    "#QUESTION-02\n",
    "from random import randint\n",
    "def checkprime(n):\n",
    "  for i in range(2,n):\n",
    "    if(n%i==0):\n",
    "      return False\n",
    "  return True  \n",
    "list=[]\n",
    "evennolist=[]\n",
    "oddnolist=[]\n",
    "primenolist=[]\n",
    "for i in range(0,100):\n",
    "  x=randint(100,900)\n",
    "  list.append(x)\n",
    "  if(x%2==0):\n",
    "    evennolist.append(x)\n",
    "  else:\n",
    "    oddnolist.append(x)\n",
    "  if(checkprime(x)):\n",
    "    primenolist.append(x)    \n",
    "#print(list)\n",
    "print(evennolist)\n",
    "print(oddnolist)\n",
    "print(primenolist)"
   ]
  },
  {
   "cell_type": "code",
   "execution_count": 4,
   "id": "5d71f9c1",
   "metadata": {},
   "outputs": [
    {
     "name": "stdout",
     "output_type": "stream",
     "text": [
      "first number:  2\n",
      "second number: 10\n",
      "[2, 3, 5, 7]\n"
     ]
    }
   ],
   "source": [
    "#QUESTION-03\n",
    "def checkprime(n):\n",
    "  for i in range(2,n):\n",
    "    if(n%i==0):\n",
    "      return False\n",
    "  return True \n",
    "x=int(input(\"first number:  \"))\n",
    "y=int(input(\"second number: \"))\n",
    "list=[]\n",
    "for i in range(x,y+1):\n",
    "  if(checkprime(i)):\n",
    "    list.append(i)\n",
    "print(list)    \n"
   ]
  },
  {
   "cell_type": "code",
   "execution_count": 4,
   "id": "7659580d",
   "metadata": {},
   "outputs": [
    {
     "name": "stdout",
     "output_type": "stream",
     "text": [
      "{8, 1, 3}\n"
     ]
    }
   ],
   "source": [
    "#QUESTION-04\n",
    "def common(a,b):\n",
    "  setA=set(a)\n",
    "  setB=set(b)\n",
    "  if(setA&setB):\n",
    "    print(setA&setB)\n",
    "  else:\n",
    "    print(\"No common elements\")  \n",
    "list1=[1,3,4,5,6,7,8]\n",
    "list2=[2,1,3,8,9]\n",
    "common(list1,list2)\n"
   ]
  },
  {
   "cell_type": "code",
   "execution_count": 7,
   "id": "dd872eee",
   "metadata": {},
   "outputs": [
    {
     "name": "stdout",
     "output_type": "stream",
     "text": [
      "starting year: 2001\n",
      "ending year: 2003\n",
      "[]\n",
      "No leap years\n"
     ]
    }
   ],
   "source": [
    "#QUESTION-05\n",
    "x=int(input(\"starting year: \"))\n",
    "y=int(input(\"ending year: \"))\n",
    "list=[]\n",
    "flag=0\n",
    "for i in range(x,y+1):\n",
    "  if(i%4==0):\n",
    "    list.append(i)\n",
    "    flag=1\n",
    "print(list)  \n",
    "if(flag==0):\n",
    "  print(\"No leap years\")  "
   ]
  },
  {
   "cell_type": "code",
   "execution_count": 9,
   "id": "b842304e",
   "metadata": {},
   "outputs": [
    {
     "name": "stdout",
     "output_type": "stream",
     "text": [
      "Enter basic salary: 1500\n",
      "Gross salary is: \n",
      "3000.0\n"
     ]
    }
   ],
   "source": [
    "#QUESTION-06\n",
    "x=int(input(\"Enter basic salary: \"))\n",
    "print(\"Gross salary is: \")\n",
    "if x<=10000:\n",
    "  print(x+0.2*x+0.8*x)\n",
    "elif x<=20000:\n",
    "  print(x+0.25*x+0.9*x)\n",
    "else:\n",
    "  print(x+0.3*x+0.95*x)    "
   ]
  },
  {
   "cell_type": "code",
   "execution_count": 10,
   "id": "e3615576",
   "metadata": {},
   "outputs": [
    {
     "name": "stdout",
     "output_type": "stream",
     "text": [
      "Enter password: prabhmeet12345**\n",
      "Invalid\n"
     ]
    }
   ],
   "source": [
    "#QUESTION-07\n",
    "def validity(p):\n",
    "  if len(p)>16:\n",
    "    print(\"Invalid\")\n",
    "    return \n",
    "  elif len(p)<6:\n",
    "    print(\"Invalid\")\n",
    "    return\n",
    "  u,l,s=0,0,0\n",
    "  for i in p:\n",
    "    if(i.islower()):\n",
    "      l=1\n",
    "    elif(i.isupper()):\n",
    "      u=1\n",
    "    elif(i=='$'or i=='#' or i=='@'):\n",
    "      s=1\n",
    "  if(l==0 or u==0 or s==0):\n",
    "     print(\"Invalid\")\n",
    "     return\n",
    "  return 1          \n",
    "x=input(\"Enter password: \")\n",
    "if validity(x)==1:\n",
    "  print(\"Valid\")"
   ]
  },
  {
   "cell_type": "code",
   "execution_count": 11,
   "id": "c4c3e9cd",
   "metadata": {},
   "outputs": [
    {
     "name": "stdout",
     "output_type": "stream",
     "text": [
      "[400, 200, 90, 80, 70, 60, 50, 40, 20]\n"
     ]
    }
   ],
   "source": [
    "#QUESTION-08\n",
    "list=[10,20,30,40,50,60,70,80]\n",
    "list.append(200)\n",
    "list.append(300)\n",
    "list.remove(10)\n",
    "list.remove(30)\n",
    "list.sort\n",
    "list.sort(\n",
    "    reverse = True)\n",
    "print(list)"
   ]
  },
  {
   "cell_type": "code",
   "execution_count": 15,
   "id": "5642c368",
   "metadata": {},
   "outputs": [
    {
     "name": "stdout",
     "output_type": "stream",
     "text": [
      "yes,6 key exists\n",
      "5\n",
      "Sum of values of dictionary is :  19\n"
     ]
    }
   ],
   "source": [
    "#QUESTION-09\n",
    "D= {1:\"One\", 2:\"Two\", 3:\"Three\", 4: \"Four\", 5:\"Five\"}\n",
    "D[6]=\"Six\"\n",
    "D.pop(2)\n",
    "if 6 in D:\n",
    "    print(\"yes,6 key exists\")\n",
    "print(len(D))\n",
    "x = 0\n",
    "for i in D:\n",
    "    x+=i\n",
    "print(\"Sum of values of dictionary is : \",x)"
   ]
  },
  {
   "cell_type": "code",
   "execution_count": 18,
   "id": "62b2adef",
   "metadata": {},
   "outputs": [
    {
     "name": "stdout",
     "output_type": "stream",
     "text": [
      "Enter principal amount: 1000\n",
      "Enter rate: 2\n",
      "Enter time period: 1.5\n",
      "Compound Interest is:  1030.149503712932\n"
     ]
    }
   ],
   "source": [
    "#QUESTION-10(A)\n",
    "def  compoundinterest(p,r,t):\n",
    "  print(\"Compound Interest is: \",p*((1+r/100)**t))\n",
    "p=float(input(\"Enter principal amount: \"))\n",
    "r=float(input(\"Enter rate: \"))\n",
    "t=float(input(\"Enter time period: \"))\n",
    "compoundinterest(p,r,t)"
   ]
  },
  {
   "cell_type": "code",
   "execution_count": 21,
   "id": "e592fc95",
   "metadata": {},
   "outputs": [
    {
     "name": "stdout",
     "output_type": "stream",
     "text": [
      "Compound Interest is:  1030.149503712932\n"
     ]
    }
   ],
   "source": [
    "#QUESTION-10(B)\n",
    "#import Assignment-01\n",
    "compoundinterest(1000,2,1.5)"
   ]
  },
  {
   "cell_type": "code",
   "execution_count": null,
   "id": "a708dbbb",
   "metadata": {},
   "outputs": [],
   "source": [
    "#END"
   ]
  }
 ],
 "metadata": {
  "kernelspec": {
   "display_name": "Python 3 (ipykernel)",
   "language": "python",
   "name": "python3"
  },
  "language_info": {
   "codemirror_mode": {
    "name": "ipython",
    "version": 3
   },
   "file_extension": ".py",
   "mimetype": "text/x-python",
   "name": "python",
   "nbconvert_exporter": "python",
   "pygments_lexer": "ipython3",
   "version": "3.9.13"
  }
 },
 "nbformat": 4,
 "nbformat_minor": 5
}
