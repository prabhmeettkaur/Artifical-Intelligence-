{
 "cells": [
  {
   "cell_type": "markdown",
   "metadata": {
    "colab_type": "text",
    "id": "eaNq4Gmi9Qic"
   },
   "source": [
    "## Advance in Python - Part 2 (Data Structures in Python - Dictionary)\n",
    "#### Topics\n",
    "1. Data Structures in Python - Dictionary\n",
    "    - Dictionary declaration\n",
    "    - Access dictionary item\n",
    "    - Traverse dictionary\n",
    "    - Add, update, deleting element from Dictionary\n",
    "    - Operations on List: Sum/Average, Min/Max, Merge, Search\n",
    "    - Nested Dictionary\n",
    "    - Use of copy() function\n",
    "\n",
    "##### Note: \n",
    "1. First Clean the Evironment (Go to \"Kernel\" Menu --> \"Restart & Clean Output\"\n",
    "2. To execute the code --> Click on a cell and press cntrl + enter key"
   ]
  },
  {
   "cell_type": "markdown",
   "metadata": {
    "colab_type": "text",
    "id": "y3VrvYW2-6Ka"
   },
   "source": [
    "## 1: Data Structure - Dictionary\n",
    "##### Key-value pair"
   ]
  },
  {
   "cell_type": "markdown",
   "metadata": {},
   "source": [
    "### 1.1: Dictionary declaration"
   ]
  },
  {
   "cell_type": "code",
   "execution_count": null,
   "metadata": {
    "colab": {
     "base_uri": "https://localhost:8080/",
     "height": 35
    },
    "colab_type": "code",
    "executionInfo": {
     "elapsed": 1478,
     "status": "ok",
     "timestamp": 1590401820703,
     "user": {
      "displayName": "Prashant Singh Rana",
      "photoUrl": "https://lh3.googleusercontent.com/a-/AOh14Gi2FtAQLyyuUB_MxR3VjjpuNfLOCJ-1R_qmOCsPLg=s64",
      "userId": "12245731978561464083"
     },
     "user_tz": -330
    },
    "id": "eikxCFcN-7AR",
    "outputId": "69d3d3da-b19c-4b8d-b9b8-e78dfcdec3e2",
    "scrolled": true
   },
   "outputs": [],
   "source": [
    "#------------------------------------------------------------------------\n",
    "# 1.1: Dictionary declaration\n",
    "#------------------------------------------------------------------------\n",
    "CGPA = {1:8.9, 2:5.6, 4:6.7, 7:9.1, 8:5.3}\n",
    "\n",
    "print (\"Dictionary     -->\", CGPA)\n",
    "print (\"Total Elements -->\", len(CGPA))\n",
    "print (\"Type of Object -->\", type(CGPA))\n"
   ]
  },
  {
   "cell_type": "markdown",
   "metadata": {},
   "source": [
    "### 1.2: Access Dictionary item"
   ]
  },
  {
   "cell_type": "code",
   "execution_count": null,
   "metadata": {},
   "outputs": [],
   "source": [
    "#------------------------------------------------------------------------\n",
    "# 1.2: Access Dictionary item\n",
    "#------------------------------------------------------------------------\n",
    "CGPA = {1:8.9, 2:5.6, 4:6.7, 7:9.1, 8:5.3}\n",
    "\n",
    "print (\"Dictionary     -->\", CGPA)\n",
    "print (\"Total Elements -->\", len(CGPA))\n",
    "\n",
    "print (\"\\nCGPA of 1 -->\", CGPA[1])  # Pass the Key and you will get value\n",
    "print (\"CGPA of 4 -->\", CGPA[4])\n",
    "print (\"CGPA of 7 -->\", CGPA[7])\n",
    "print (\"CGPA of 3 -->\", CGPA[3])  # Error; Key is not available; Exception should me handle\n"
   ]
  },
  {
   "cell_type": "markdown",
   "metadata": {},
   "source": [
    "### 1.3: Traverse dictionary - Version 1"
   ]
  },
  {
   "cell_type": "code",
   "execution_count": null,
   "metadata": {},
   "outputs": [],
   "source": [
    "#------------------------------------------------------------------------\n",
    "# 1.3: Traverse dictionary - Version 1\n",
    "#------------------------------------------------------------------------\n",
    "CGPA = {1:8.9, 2:5.6, 4:6.7, 7:9.1, 8:5.3}\n",
    "\n",
    "for k in CGPA:\n",
    "    print (\"CGPA of \", k, \" -->\", CGPA[k])"
   ]
  },
  {
   "cell_type": "markdown",
   "metadata": {},
   "source": [
    "### 1.4: Traverse dictionary - Version 2"
   ]
  },
  {
   "cell_type": "code",
   "execution_count": null,
   "metadata": {},
   "outputs": [],
   "source": [
    "#------------------------------------------------------------------------\n",
    "# 1.4: Traverse dictionary - Version 2\n",
    "#------------------------------------------------------------------------\n",
    "HomeTown = {\"Pratham\":\"Delhi\", \"Govind\":\"Gwalior\", \"Anil\":\"Morena\", \"Pankaj\":\"Agra\"}\n",
    "print (\"Dictionary --> \", HomeTown)\n",
    "\n",
    "print (\"\")\n",
    "for d in HomeTown:\n",
    "    print (\"Home Town of \", d, \" is  -->\", HomeTown[d])\n"
   ]
  },
  {
   "cell_type": "markdown",
   "metadata": {},
   "source": [
    "### 1.5: Getting Keys and Values"
   ]
  },
  {
   "cell_type": "code",
   "execution_count": null,
   "metadata": {},
   "outputs": [],
   "source": [
    "#------------------------------------------------------------------------\n",
    "# 1.5: Getting Keys and Values\n",
    "#------------------------------------------------------------------------\n",
    "CGPA = {1:8.9, 2:5.6, 4:6.7, 7:9.1, 8:5.3}\n",
    "\n",
    "print (\"Dictionary -->\", CGPA)\n",
    "\n",
    "print (\"\\nKeys       -->\", CGPA. keys())\n",
    "print (\"Values     -->\", CGPA.values())\n"
   ]
  },
  {
   "cell_type": "markdown",
   "metadata": {},
   "source": [
    "### 1.6: Adding element in Dictionary"
   ]
  },
  {
   "cell_type": "code",
   "execution_count": null,
   "metadata": {},
   "outputs": [],
   "source": [
    "#------------------------------------------------------------------------\n",
    "# 1.6: Adding element in Dictionary\n",
    "#------------------------------------------------------------------------\n",
    "CGPA = {1:8.9, 2:5.6, 4:6.7, 7:9.1, 8:5.3}\n",
    "print (\"Dictionary        -->\", CGPA)\n",
    "\n",
    "CGPA[3] = 8.6            # Adding\n",
    "print (\"\\nAfter Adding(3)   -->\", CGPA)\n",
    "\n",
    "CGPA[9] = 7.6            # Adding\n",
    "print (\"After Adding(9)   -->\", CGPA)\n",
    "\n",
    "# Order or Sequence don't matter\n"
   ]
  },
  {
   "cell_type": "markdown",
   "metadata": {},
   "source": [
    "### 1.7: Updating element in Dictionary"
   ]
  },
  {
   "cell_type": "code",
   "execution_count": null,
   "metadata": {},
   "outputs": [],
   "source": [
    "#------------------------------------------------------------------------\n",
    "# 1.7: Updating element in Dictionary\n",
    "#------------------------------------------------------------------------\n",
    "CGPA = {1:8.9, 2:5.6, 4:6.7, 7:9.1, 8:5.3}\n",
    "print (\"Dictionary        -->\", CGPA)\n",
    "\n",
    "CGPA[4] = 9.2            # Updating\n",
    "print (\"\\nAfter Updating(4) -->\", CGPA)\n",
    "\n",
    "CGPA[10] = 8.8            # Adding\n",
    "print (\"After Adding(10)  -->\", CGPA)\n"
   ]
  },
  {
   "cell_type": "markdown",
   "metadata": {},
   "source": [
    "### 1.8: Deleting element from Dictionary"
   ]
  },
  {
   "cell_type": "code",
   "execution_count": null,
   "metadata": {},
   "outputs": [],
   "source": [
    "#------------------------------------------------------------------------\n",
    "# 1.8: Deleting element from Dictionary\n",
    "#------------------------------------------------------------------------\n",
    "CGPA = {1:8.9, 2:5.6, 4:6.7, 7:9.1, 8:5.3}\n",
    "print (\"Dictionary         -->\", CGPA)\n",
    "\n",
    "del CGPA[1]              # Deleting Key 1\n",
    "print (\"\\nAfter Deleting (1) -->\", CGPA)\n",
    "\n",
    "del CGPA[8]              # Deleting Key 8\n",
    "print (\"After Deleting (8) -->\", CGPA)\n"
   ]
  },
  {
   "cell_type": "markdown",
   "metadata": {},
   "source": [
    "### 1.9: Clear elements in Dictionary"
   ]
  },
  {
   "cell_type": "code",
   "execution_count": null,
   "metadata": {},
   "outputs": [],
   "source": [
    "#------------------------------------------------------------------------\n",
    "# 1.9: Clear elements in Dictionary\n",
    "#------------------------------------------------------------------------\n",
    "CGPA = {1:8.9, 2:5.6, 4:6.7, 7:9.1, 8:5.3}\n",
    "print (\"Dictionary             -->\", CGPA)\n",
    "\n",
    "CGPA.clear()            # Deleting all elements\n",
    "print (\"\\nDictionary after clear -->\", CGPA)\n"
   ]
  },
  {
   "cell_type": "markdown",
   "metadata": {},
   "source": [
    "### 1.10: Deleting Dictionary"
   ]
  },
  {
   "cell_type": "code",
   "execution_count": null,
   "metadata": {},
   "outputs": [],
   "source": [
    "#------------------------------------------------------------------------\n",
    "# 1.10: Deleting Dictionary\n",
    "#------------------------------------------------------------------------\n",
    "CGPA = {1:8.9, 2:5.6, 4:6.7, 7:9.1, 8:5.3}\n",
    "print (\"Dictionary         -->\", CGPA)\n",
    "\n",
    "del CGPA\n",
    "print (\"Dictionary after delete -->\", CGPA)  # Error\n",
    "                                              # Dictionary is deleted and still want to print\n",
    "                                              # Exception should me handle\n"
   ]
  },
  {
   "cell_type": "markdown",
   "metadata": {},
   "source": [
    "### 1.11: Sum/Average all values of Dictionary - Version1"
   ]
  },
  {
   "cell_type": "code",
   "execution_count": null,
   "metadata": {},
   "outputs": [],
   "source": [
    "#------------------------------------------------------------------------\n",
    "# 1.11: Sum/Average all values of Dictionary - Version1\n",
    "#------------------------------------------------------------------------\n",
    "CGPA = {1:8.9, 2:5.6, 4:6.7, 7:9.1, 8:5.3}\n",
    "print (\"Dictionary -->\", CGPA)\n",
    "\n",
    "s = 0\n",
    "for i in CGPA:\n",
    "    s = s + CGPA[i]\n",
    "\n",
    "print (\"\\nSum        -->\", s)\n",
    "print (\"Average    -->\", s/len(CGPA))\n",
    "print (\"Average    -->\", s//len(CGPA))\n"
   ]
  },
  {
   "cell_type": "markdown",
   "metadata": {},
   "source": [
    "### 1.12: Sum/Average all values of Dictionary - Version2"
   ]
  },
  {
   "cell_type": "code",
   "execution_count": null,
   "metadata": {},
   "outputs": [],
   "source": [
    "#------------------------------------------------------------------------\n",
    "# 1.12: Sum/Average all values of Dictionary - Version2\n",
    "#------------------------------------------------------------------------\n",
    "CGPA = {1:8.9, 2:5.6, 4:6.7, 7:9.1, 8:5.3}\n",
    "print (\"Dictionary --> \", CGPA)\n",
    "\n",
    "print (\"\\nSum        -->\", sum(CGPA.values()))\n",
    "print (\"Average    -->\", sum(CGPA.values())/len(CGPA))\n",
    "print (\"Average    -->\", sum(CGPA.values())//len(CGPA))\n"
   ]
  },
  {
   "cell_type": "markdown",
   "metadata": {},
   "source": [
    "### 1.13: Min/Max values in the Dictionary"
   ]
  },
  {
   "cell_type": "code",
   "execution_count": null,
   "metadata": {},
   "outputs": [],
   "source": [
    "#------------------------------------------------------------------------\n",
    "# 1.13: Min/Max values in the Dictionary\n",
    "#------------------------------------------------------------------------\n",
    "CGPA = {1:8.9, 2:5.6, 4:6.7, 7:9.1, 8:5.3}\n",
    "print (\"Dictionary -->\", CGPA)\n",
    "\n",
    "print (\"\\nMin value  -->\", min(CGPA.values()))\n",
    "print (\"Max value  -->\", max(CGPA.values()))\n"
   ]
  },
  {
   "cell_type": "markdown",
   "metadata": {},
   "source": [
    "### 1.14: Find key having min/max value in the Dictionary"
   ]
  },
  {
   "cell_type": "code",
   "execution_count": null,
   "metadata": {},
   "outputs": [],
   "source": [
    "#------------------------------------------------------------------------\n",
    "# 1.14: Find key having min/max value in the Dictionary\n",
    "#------------------------------------------------------------------------\n",
    "CGPA = {1:8.9, 2:5.6, 4:6.7, 7:9.1, 8:5.3}\n",
    "print (\"Dictionary --> \", CGPA)\n",
    "\n",
    "print (\"\\nMin value  -->\", min(CGPA.values()))\n",
    "print (\"Max value  -->\", max(CGPA.values()))\n",
    "\n",
    "print (\"\\nKey having Min value  -->\", min(CGPA, key = CGPA.get))\n",
    "print (\"Key having Max value  -->\", max(CGPA, key = CGPA.get))\n"
   ]
  },
  {
   "cell_type": "markdown",
   "metadata": {},
   "source": [
    "### 1.15: Find key for any value in the Dictionary"
   ]
  },
  {
   "cell_type": "code",
   "execution_count": null,
   "metadata": {},
   "outputs": [],
   "source": [
    "#------------------------------------------------------------------------\n",
    "# 1.15: Find key for any value in the Dictionary\n",
    "#------------------------------------------------------------------------\n",
    "CGPA = {1:8.9, 2:5.6, 4:6.7, 7:9.1, 8:5.3}\n",
    "print (\"Dictionary       -->\", CGPA)\n",
    "\n",
    "# List out keys and values separately \n",
    "keyList = list(CGPA.keys()) \n",
    "valList = list(CGPA.values()) \n",
    "\n",
    "print (\"\\nValue = 5.6; Key -->\", keyList[valList.index(5.6)])\n",
    "print (\"Value = 9.1; Key -->\", keyList[valList.index(9.1)])\n",
    "\n",
    "# one-liner \n",
    "print (\"\\nValue = 5.6; Key -->\",list(CGPA.keys())[list(CGPA.values()).index(5.6)])\n",
    "print (\"Value = 9.1; Key -->\",list(CGPA.keys())[list(CGPA.values()).index(9.1)])\n"
   ]
  },
  {
   "cell_type": "markdown",
   "metadata": {},
   "source": [
    "### 1.16: Searching key in the Dictionary - Version 1"
   ]
  },
  {
   "cell_type": "code",
   "execution_count": null,
   "metadata": {},
   "outputs": [],
   "source": [
    "#------------------------------------------------------------------------\n",
    "# 1.16: Searching key in the Dictionary - Version 1\n",
    "#------------------------------------------------------------------------\n",
    "CGPA = {1:8.9, 2:5.6, 4:6.7, 7:9.1, 8:5.3}\n",
    "print (\"Dictionary       -->\", CGPA)\n",
    "\n",
    "print (\"\\nIs Key 2 Present -->\", 2 in CGPA)\n",
    "print (\"Is Key 9 Present -->\", 9 in CGPA)\n"
   ]
  },
  {
   "cell_type": "markdown",
   "metadata": {},
   "source": [
    "### 1.17: Searching key in the Dictionary - Version 2"
   ]
  },
  {
   "cell_type": "code",
   "execution_count": null,
   "metadata": {},
   "outputs": [],
   "source": [
    "#------------------------------------------------------------------------\n",
    "# 1.17: Searching key in the Dictionary - Version 2\n",
    "#------------------------------------------------------------------------\n",
    "CGPA = {1:8.9, 2:5.6, 4:6.7, 7:9.1, 8:5.3}\n",
    "print (\"Dictionary       -->\", CGPA)\n",
    "\n",
    "print (\"\\nIs Key 2 Present -->\", 2 in CGPA.keys())\n",
    "print (\"Is Key 9 Present -->\", 9 in CGPA.keys())\n"
   ]
  },
  {
   "cell_type": "markdown",
   "metadata": {},
   "source": [
    "### 1.18: Searching value in the Dictionary"
   ]
  },
  {
   "cell_type": "code",
   "execution_count": null,
   "metadata": {},
   "outputs": [],
   "source": [
    "#------------------------------------------------------------------------\n",
    "# 1.18: Searching value in the Dictionary\n",
    "#------------------------------------------------------------------------\n",
    "CGPA = {1:8.9, 2:5.6, 4:6.7, 7:9.1, 8:5.3}\n",
    "print (\"Dictionary         -->\", CGPA)\n",
    "\n",
    "print (\"\\nIs Key 5.6 Present -->\", 5.6 in CGPA.values())\n",
    "print (\"Is Key 5.7 Present -->\", 5.7 in CGPA.values())\n"
   ]
  },
  {
   "cell_type": "markdown",
   "metadata": {},
   "source": [
    "### 1.19: Increment the every value of Dictionary by n"
   ]
  },
  {
   "cell_type": "code",
   "execution_count": null,
   "metadata": {},
   "outputs": [],
   "source": [
    "#------------------------------------------------------------------------\n",
    "# 1.19: Increment the every value of Dictionary by n\n",
    "#------------------------------------------------------------------------\n",
    "CGPA = {1:8.9, 2:5.6, 4:6.7, 7:9.1, 8:5.3}\n",
    "print (\"Dictionary         -->\", CGPA)\n",
    "n = 10\n",
    "\n",
    "for i in CGPA:\n",
    "    CGPA[i] = CGPA[i] + n\n",
    "print (\"\\nUpdated Dictionary -->\", CGPA)\n"
   ]
  },
  {
   "cell_type": "markdown",
   "metadata": {},
   "source": [
    "### 1.20: Merge Dictionary"
   ]
  },
  {
   "cell_type": "code",
   "execution_count": null,
   "metadata": {},
   "outputs": [],
   "source": [
    "#------------------------------------------------------------------------\n",
    "# 1.20: Merge Dictionary\n",
    "#------------------------------------------------------------------------\n",
    "# Example 1\n",
    "CGPA = {1:8.9, 2:5.6, 4:9.7}\n",
    "CGPA1= {4:6.7, 7:9.1, 8:5.3}\n",
    "print (\"CGPA               -->\", CGPA)\n",
    "print (\"CGPA1              -->\", CGPA1)\n",
    "\n",
    "CGPA1.update(CGPA)\n",
    "\n",
    "print (\"\\nCGPA1 after update -->\", CGPA1)\n"
   ]
  },
  {
   "cell_type": "code",
   "execution_count": null,
   "metadata": {},
   "outputs": [],
   "source": [
    "# Example 2\n",
    "CGPA = {1:8.9, 2:5.6, 4:9.7}\n",
    "CGPA1= {4:6.7, 7:9.1, 8:5.3}\n",
    "\n",
    "print (\"CGPA              -->\", CGPA)\n",
    "print (\"CGPA1             -->\", CGPA1)\n",
    "\n",
    "CGPA.update(CGPA1)\n",
    "print (\"\\nCGPA after update -->\", CGPA)"
   ]
  },
  {
   "cell_type": "markdown",
   "metadata": {},
   "source": [
    "### 1.21: Use of copy() function"
   ]
  },
  {
   "cell_type": "code",
   "execution_count": null,
   "metadata": {},
   "outputs": [],
   "source": [
    "#------------------------------------------------------------------------\n",
    "# 1.21: Use of copy() function\n",
    "#------------------------------------------------------------------------\n",
    "# Example 1\n",
    "CGPA = {1:8.9, 2:5.6, 4:6.7, 7:9.1, 8:5.3}\n",
    "print (\"CGPA              -->\", CGPA)\n",
    "\n",
    "CGPA1 = CGPA                            # Pointing to the same memory location as L\n",
    "CGPA[1] = 7.0\n",
    "\n",
    "print (\"CGPA after upate  -->\", CGPA)\n",
    "print (\"CGPA1 after upate -->\", CGPA1)\n"
   ]
  },
  {
   "cell_type": "code",
   "execution_count": null,
   "metadata": {},
   "outputs": [],
   "source": [
    "# Example 2\n",
    "import copy\n",
    "CGPA = {1:8.9, 2:5.6, 4:6.7, 7:9.1, 8:5.3}\n",
    "print (\"CGPA              -->\", CGPA)\n",
    "\n",
    "CGPA1 = copy.copy(CGPA)                 # New memory is allocated\n",
    "#CGPA1 = copy.deepcopy(CGPA)                 # New memory is allocated\n",
    "CGPA[1] = 7.0\n",
    "\n",
    "print (\"CGPA after upate  -->\", CGPA)\n",
    "print (\"CGPA1 after upate -->\", CGPA1)\n"
   ]
  },
  {
   "cell_type": "markdown",
   "metadata": {},
   "source": [
    "### 1.22: Nested Dictionary"
   ]
  },
  {
   "cell_type": "code",
   "execution_count": null,
   "metadata": {},
   "outputs": [],
   "source": [
    "#------------------------------------------------------------------------\n",
    "# 1.22: Nested Dictionary\n",
    "#------------------------------------------------------------------------\n",
    "# Example 1\n",
    "student = {1: {'name': 'Roham', 'age': '19', 'gender': 'Male'},\n",
    "          2: {'name': 'Monika', 'age': '20', 'gender': 'Female'}}\n",
    "\n",
    "print(\"Student -->\", student)\n"
   ]
  },
  {
   "cell_type": "code",
   "execution_count": null,
   "metadata": {},
   "outputs": [],
   "source": [
    "# Example 2\n",
    "student = {1: {'name': 'Roham', 'age': '19', 'gender': 'Male'},\n",
    "          2: {'name': 'Monika', 'age': '20', 'gender': 'Female'}}\n",
    "\n",
    "print(\"student[1]['name']   -->\", student[1]['name'])\n",
    "print(\"student[1]['age']    -->\", student[1]['age'])\n",
    "print(\"student[1]['gender'] -->\", student[1]['gender'])\n"
   ]
  }
 ],
 "metadata": {
  "colab": {
   "collapsed_sections": [],
   "name": "BasicsOfPython.ipynb",
   "provenance": []
  },
  "kernelspec": {
   "display_name": "Python 3",
   "language": "python",
   "name": "python3"
  },
  "language_info": {
   "codemirror_mode": {
    "name": "ipython",
    "version": 3
   },
   "file_extension": ".py",
   "mimetype": "text/x-python",
   "name": "python",
   "nbconvert_exporter": "python",
   "pygments_lexer": "ipython3",
   "version": "3.7.7"
  }
 },
 "nbformat": 4,
 "nbformat_minor": 1
}
